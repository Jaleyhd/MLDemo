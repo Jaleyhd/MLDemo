{
 "cells": [
  {
   "cell_type": "markdown",
   "metadata": {},
   "source": [
    "# Rap Lyrics Generator\n",
    "The code in this tutorial has been taken from Siraj Raval's Github Link, as shown bellow. Sirajology has done a commendable work in making ML Techniques accecible.  \n",
    "**Siraj Raval's Github Link** : [Rap Lyrics Generator](https://github.com/llSourcell/Rap_Lyric_Generator)  \n",
    "**Sirajology Youtube Channel Link** : [Rap Lyrics Generator YT](https://www.youtube.com/watch?v=yE0dcDNRZjw)  \n",
    "I request you to subscribe to his channel and support his initiative by contributing via [patreon](https://www.patreon.com/user?ty=h&u=3191693). I also want to clarify that my intention of writing this blog is to learn, bookmark and share application of ML Techniques in different modalities and I don't take credit for the code in any ways.\n",
    "## Hidden Markov Model\n",
    "Hidden Markov Model is a generative model, which is used in modelling hidden States of an observed sequence of events. Markovian Property is crutial in the whole process and states thats that if I know a previous state, my current state won't depend on dependencies of previous states anymore or it will become conditionally independent of ancestoral dependences of its previous states (conditioned on knowledge of previous state). There is a huge amount of resource avaiable for understanding Markovian Models, so I won't go into extreme details.  \n",
    "### Other Tutorials\n",
    "* [HMM Basics](http://www.comp.leeds.ac.uk/roger/HiddenMarkovModels/html_dev/main.html)\n",
    "* [Cool HMM Assignment](https://inst.eecs.berkeley.edu/~cs188/sp08/projects/hmm/project_hmm.html)\n",
    "* [Music Generation](http://www.dlib.org/dlib/february02/birmingham/birmingham-appendix1.html)\n",
    "* [Tensor Flow based HMM Notebook](https://github.com/dwiel/tensorflow_hmm/tree/master/notebooks)\n",
    "* [Slides](http://www.bioinf.uni-freiburg.de/Lehre/Courses/2008_WS/V_BioinfoII/hmm-slides.pdf)\n",
    "\n",
    "### Speech Recognition via HMM\n",
    "Look into the bellow link to understand how we use HMM for Speech Recognition.  \n",
    "[Single Speaker word-recognition](https://kastnerkyle.github.io/posts/single-speaker-word-recognition-with-hidden-markov-models/)\n",
    "\n",
    "## Theoretical Example : Predicting States of Sky\n",
    "In News Channel, after every news reel,you see weather prediction popping up, don't you?\n",
    "Now How Sky will be today is a combination of how much Sun,Cloud Rain is there in sky today, and also how it was yesterday.   \n",
    "![HMM](https://qph.ec.quoracdn.net/main-qimg-6f530ee3ee2a40c79130a0973c6ad7b5?convert_to_webp=true)\n",
    "\n",
    "An hmm is represented by a Triplet $(\\Pi,A,B$). Where  \n",
    "* $\\Pi$ = **Initial State Probabilities** $P(h^{(0)}_i)$  \n",
    "*Gives information about how probabilites of First State. It is mostly based on prior information*\n",
    "* $A$ = **State Transition Matrix** $P(h^{(k)}_j \\mid h^{(k+1)}_i)$  \n",
    "*Given a previous Hidden State, What is the probability of next Hidden State is what is given by $A$*\n",
    "* $B$ = **State Emmision Matrix/Confusion Matrix** $P(o^{(k)}_j \\mid h^{(k)}_i)$  \n",
    "*Given a Hidden State, what is the probability of its observed state is what is given by $B$*\n",
    "\n",
    "**Notation**  \n",
    "* $h^{(k)}_i$ = hidden state i at temporal sequence order k  \n",
    "* $o^{(k)}_j$ = observed state j at temporal sequence order k\n",
    "* $M$ = Model is defined probability values in HMM Triplet (\\Pi,A,B)\n",
    "\n",
    "\n",
    "### 3 Fundamental Problems in HMM\n",
    "\n",
    "**Problem 1 : $P(o^{(1)}o^{(2)}o^{(k)}\\cdots o^{(N)}\\mid M)$**  \n",
    "What is the probability of Observed state sequence given the model(i.e well defined transition and emmition probability/stochastic Matrix)  \n",
    "**Problem 2 : **\n"
   ]
  },
  {
   "cell_type": "code",
   "execution_count": null,
   "metadata": {
    "collapsed": true
   },
   "outputs": [],
   "source": [
    "\n"
   ]
  }
 ],
 "metadata": {
  "kernelspec": {
   "display_name": "Python 2",
   "language": "python",
   "name": "python2"
  },
  "language_info": {
   "codemirror_mode": {
    "name": "ipython",
    "version": 2
   },
   "file_extension": ".py",
   "mimetype": "text/x-python",
   "name": "python",
   "nbconvert_exporter": "python",
   "pygments_lexer": "ipython2",
   "version": "2.7.12"
  }
 },
 "nbformat": 4,
 "nbformat_minor": 1
}
